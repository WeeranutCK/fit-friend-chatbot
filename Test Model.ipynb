{
 "cells": [
  {
   "cell_type": "code",
   "execution_count": 1,
   "id": "6a0aa881-b2e6-469b-b1e1-a13def30f59c",
   "metadata": {
    "executionInfo": {
     "elapsed": 3,
     "status": "ok",
     "timestamp": 1697295809784,
     "user": {
      "displayName": "Jitlada YOTINTA",
      "userId": "05948340747487841983"
     },
     "user_tz": -420
    },
    "id": "6a0aa881-b2e6-469b-b1e1-a13def30f59c"
   },
   "outputs": [],
   "source": [
    "from keras.preprocessing.text import Tokenizer\n",
    "from keras.preprocessing.sequence import pad_sequences\n",
    "from tensorflow.keras.models import load_model\n",
    "\n",
    "from pythainlp.tokenize import word_tokenize\n",
    "from pythainlp.corpus.common import thai_words\n",
    "from pythainlp.util import dict_trie\n",
    "\n",
    "import numpy as np\n",
    "import joblib\n",
    "import re"
   ]
  },
  {
   "cell_type": "code",
   "execution_count": 2,
   "id": "724d7256-c123-4553-9b64-48eb5f536340",
   "metadata": {
    "executionInfo": {
     "elapsed": 2606,
     "status": "ok",
     "timestamp": 1697295815265,
     "user": {
      "displayName": "Jitlada YOTINTA",
      "userId": "05948340747487841983"
     },
     "user_tz": -420
    },
    "id": "724d7256-c123-4553-9b64-48eb5f536340"
   },
   "outputs": [],
   "source": [
    "test_class = \"main_class\"\n",
    "\n",
    "words = ['ลดน้ำหนัก',\n",
    "         'เบาหวาน',\n",
    "         \"คนแก่\",\n",
    "         \"ผู้เฒ่า\",\n",
    "         \"ไดเอท\",\n",
    "         \"ความสูง\",\n",
    "         \"ส่วนสูง\",\n",
    "         \"โปรตีน\",\n",
    "         \"ระบบภูมิคุ้มกัน\",\n",
    "         \"กระเพาะอาหาร\",\n",
    "         \"ออกกำลังกาย\"\n",
    "        ]\n",
    "custom_words_list = set(thai_words())\n",
    "custom_words_list.update(words)\n",
    "trie = dict_trie(dict_source=custom_words_list)\n",
    "\n",
    "ngram = 2\n",
    "engine = \"newmm\""
   ]
  },
  {
   "cell_type": "code",
   "execution_count": 3,
   "id": "2c7a098c-aa32-45ca-beee-2666a151bfd0",
   "metadata": {
    "executionInfo": {
     "elapsed": 9,
     "status": "ok",
     "timestamp": 1697295815266,
     "user": {
      "displayName": "Jitlada YOTINTA",
      "userId": "05948340747487841983"
     },
     "user_tz": -420
    },
    "id": "2c7a098c-aa32-45ca-beee-2666a151bfd0"
   },
   "outputs": [],
   "source": [
    "import csv\n",
    "\n",
    "models_accuracy = {}\n",
    "\n",
    "# Open the CSV file in read mode\n",
    "with open(f'{test_class}/{test_class}-model-accuracy.csv', mode='r') as file:\n",
    "    # Create a CSV reader object\n",
    "    reader = csv.reader(file)\n",
    "\n",
    "    next(reader)\n",
    "\n",
    "    # Iterate through the CSV rows and print them\n",
    "    for row in reader:\n",
    "        models_accuracy[row[0]] = float(row[1])\n",
    "\n",
    "class_labels = []\n",
    "\n",
    "# Open the CSV file in read mode\n",
    "with open(f'{test_class}/{test_class}-class-labels.csv', mode='r') as file:\n",
    "    # Create a CSV reader object\n",
    "    reader = csv.reader(file)\n",
    "\n",
    "    next(reader)\n",
    "\n",
    "    # Iterate through the CSV rows and print them\n",
    "    for row in reader:\n",
    "        class_labels.append(row[0])\n",
    "\n",
    "maxlen = 0\n",
    "\n",
    "# Open the CSV file in read mode\n",
    "with open(f'{test_class}/{test_class}-max-length.csv', mode='r') as file:\n",
    "    # Create a CSV reader object\n",
    "    reader = csv.reader(file)\n",
    "\n",
    "    next(reader)\n",
    "\n",
    "    # Iterate through the CSV rows and print them\n",
    "    for row in reader:\n",
    "        maxlen = int(row[0])\n",
    "\n",
    "tokenizer = joblib.load(f'{test_class}/{test_class}-tokenizer.joblib')"
   ]
  },
  {
   "cell_type": "code",
   "execution_count": 4,
   "id": "4e5d5f0b-7c15-4c24-b025-e7801ac46198",
   "metadata": {
    "executionInfo": {
     "elapsed": 8,
     "status": "ok",
     "timestamp": 1697295815266,
     "user": {
      "displayName": "Jitlada YOTINTA",
      "userId": "05948340747487841983"
     },
     "user_tz": -420
    },
    "id": "4e5d5f0b-7c15-4c24-b025-e7801ac46198"
   },
   "outputs": [],
   "source": [
    "def create_ngrams(tokens, n):\n",
    "    ngrams = []\n",
    "    for i in range(len(tokens) - n + 1):\n",
    "        ngram = \" \".join(tokens[i:i + n])\n",
    "        ngrams.append(ngram)\n",
    "    return ngrams"
   ]
  },
  {
   "cell_type": "code",
   "execution_count": 5,
   "id": "b1ec421d-76f5-4542-96de-d8866896293d",
   "metadata": {
    "executionInfo": {
     "elapsed": 8,
     "status": "ok",
     "timestamp": 1697295815266,
     "user": {
      "displayName": "Jitlada YOTINTA",
      "userId": "05948340747487841983"
     },
     "user_tz": -420
    },
    "id": "b1ec421d-76f5-4542-96de-d8866896293d"
   },
   "outputs": [],
   "source": [
    "def create_ngram_interpolations(tokens, n):\n",
    "    unigrams = tokens\n",
    "    ngrams = create_ngrams(tokens, n)\n",
    "    ngram_interpolations = []\n",
    "\n",
    "    for i in range(len(unigrams)):\n",
    "        for j in range(n):\n",
    "            if i + j < len(unigrams):\n",
    "                ngram_interpolations.append(\" \".join(unigrams[i:i + j + 1]))\n",
    "\n",
    "    return ngram_interpolations"
   ]
  },
  {
   "cell_type": "code",
   "execution_count": 6,
   "id": "6f8d780d-6304-4192-a8c8-128511354337",
   "metadata": {
    "colab": {
     "base_uri": "https://localhost:8080/"
    },
    "executionInfo": {
     "elapsed": 8,
     "status": "ok",
     "timestamp": 1697295815266,
     "user": {
      "displayName": "Jitlada YOTINTA",
      "userId": "05948340747487841983"
     },
     "user_tz": -420
    },
    "id": "6f8d780d-6304-4192-a8c8-128511354337",
    "outputId": "fcb47300-60b4-4886-c58a-6840463e1977"
   },
   "outputs": [
    {
     "name": "stdout",
     "output_type": "stream",
     "text": [
      "20\n",
      "{'FC': 0.9879879951477051, 'RNN': 0.9609609842300415, 'LSTM': 0.9939939975738525, 'bi-LSTM': 0.9939939975738525}\n",
      "['0', '1', '2']\n"
     ]
    }
   ],
   "source": [
    "print(maxlen)\n",
    "print(models_accuracy)\n",
    "print(class_labels)"
   ]
  },
  {
   "cell_type": "markdown",
   "id": "7913a09e-bc10-4d19-964a-6ae557535b6e",
   "metadata": {
    "id": "7913a09e-bc10-4d19-964a-6ae557535b6e"
   },
   "source": [
    "# Input Testing"
   ]
  },
  {
   "cell_type": "code",
   "execution_count": 7,
   "id": "de627dd8-a0d1-4713-8125-0ad3c5d82a11",
   "metadata": {
    "executionInfo": {
     "elapsed": 7,
     "status": "ok",
     "timestamp": 1697295815266,
     "user": {
      "displayName": "Jitlada YOTINTA",
      "userId": "05948340747487841983"
     },
     "user_tz": -420
    },
    "id": "de627dd8-a0d1-4713-8125-0ad3c5d82a11"
   },
   "outputs": [],
   "source": [
    "input_text_list = [\"ถ้ากินอาหารหวาน ๆ เยอะ ๆ จะทำให้อ้วนมากมั้ย\",\n",
    "                   \"ในแต่ละวันควรรับประทานอาหารอะไร\",\n",
    "                   \"อาหารแบบไหนทำให้อ้วน\",\n",
    "                   \"ขอเมนูอาหารคลีนหน่อย\",\n",
    "                   \"อาหารในแต่ละวันที่เรารับประทานควรมีสารอาหารอะไรบ้าง\",\n",
    "                   \"เราควรกินข้าวหมูกรอบบ่อยแค่ไหน\",\n",
    "                   \"สารอาหารหลักที่เรารับประทาน มาจากที่ไหนได้บ้าง\",\n",
    "                   \"ผักและผลไม้สดมีสารอาหารต่างกันอย่างไร\",\n",
    "                   \"ตอนเย็นกินข้าวมื้อหนัก ๆ ได้มั้ย\",\n",
    "                   \"อาหารเช้าจำเป็นหรือไม่\",\n",
    "                   \"อาหารมื้อเช้ากินอะไรดีจะได้อิ่ม ๆ\"\n",
    "                  ]"
   ]
  },
  {
   "cell_type": "code",
   "execution_count": 8,
   "id": "38988968-231a-48a8-816c-b8510d9b5d49",
   "metadata": {},
   "outputs": [
    {
     "name": "stdin",
     "output_type": "stream",
     "text": [
      " เป็นเบาหวานต้องออกกำลังกายยังไง\n"
     ]
    }
   ],
   "source": [
    "question = input()"
   ]
  },
  {
   "cell_type": "code",
   "execution_count": 9,
   "id": "f6e2e8ad-4f33-4557-9975-fa90265aeb93",
   "metadata": {},
   "outputs": [],
   "source": [
    "def preprocess(text):\n",
    "    return re.sub(r'[\\W_]+', '', text).lower()\n",
    "    \n",
    "def process_text_v2(input_text, this_dic):\n",
    "    found_keys = []\n",
    "    input_preprocessed = preprocess(input_text)\n",
    "    for key, value in this_dic.items():\n",
    "        for word in value:\n",
    "            word_preprocessed = preprocess(word)\n",
    "            if re.search(word_preprocessed, input_preprocessed):\n",
    "                if key not in found_keys:\n",
    "                    found_keys.append(key)\n",
    "    return found_keys\n",
    "\n",
    "def check_bmi(bmi_value , userId):\n",
    "  bmi = int(bmi_value)\n",
    "  print(userId , end = \"==\")\n",
    "  if bmi < 18.5:\n",
    "    print(\"น้ำหนักน้อยเกินไป (Underweight) < 18.5 : แสดงว่าร่างกายมีค่า BMI ต่ำกว่าเกณฑ์ หรือน้ำหนักน้อยต่ำกว่าเกณฑ์ หรือเป็นคนผอม\")\n",
    "  elif bmi <= 22.9:\n",
    "    print(\"น้ำหนักปกติ (Normal weight) 18.5 - 22.9 : ถือว่ามีรูปร่างปกติสมส่วน เหมาะสำหรับผู้ชายไทย ซึ่งมีความเสี่ยงต่อโรคต่าง ๆ น้อยที่สุด\")\n",
    "  elif bmi <= 29.9:\n",
    "    print(\"น้ำหนักเกิน (Overweight) 23 - 29.9 : แสดงว่าคน ๆ นั้นน้ำหนักเกิน กำลังก้าวสู่การเป็นคนอ้วน แม้จะยังไม่ใช่คนอ้วนแต่หากปล่อยไว้ ก็มีโอกาสเป็นคนอ้วนได้ และมีโอกาสจะเกิดโรคต่าง ๆ ได้ โดยเฉพาะหากคนในครอบครัวมีประวัติการเป็นโรคเบาหวาน ความดัน หรือโลหิตสูง เพราะมีความเสี่ยงมากกว่าคนปกติแล้ว\")\n",
    "  elif bmi <= 34.9:\n",
    "    print(\"อ้วน (Obese) 30 - 34.9 : แสดงว่าร่างกายเข้าสู่ภาวะอ้วนระดับ 1 ถือว่าเข้าสู่ภาวะโรคอ้วน (Obesity) แล้ว ซึ่งถือเป็นความผิดปกติของร่างกาย ที่มีปริมาณไขมันสะสมตามอวัยวะส่วนต่าง ๆ เกินมาตรฐาน จำเป็นต้องมีการลดน้ำหนัก ควบคุมปริมาณน้ำตาล คาร์โบไฮเดรต และไขมัน เพื่อป้องกันการเกิดโรคเรื้อรัง และโรคแทรกซ้อนตามมา\")\n",
    "  else:\n",
    "    print(\"อ้วนมาก (Morbidly obese) > 35 : แสดงว่าคน ๆ นั้น อยู่ในภาวะอ้วนระดับ 2 ถือว่าอ้วนมากขึ้นแล้ว เสี่ยงต่อการเกิดโรคร้ายแรงที่แฝงมากับความอ้วน จะต้องระวังการรับประทานไขมัน และควรออกกำลังกายสม่ำเสมอด้วย\")"
   ]
  },
  {
   "cell_type": "code",
   "execution_count": 10,
   "id": "e3dfefad-ec8f-43af-b8a1-bc15dd0783b3",
   "metadata": {
    "colab": {
     "base_uri": "https://localhost:8080/",
     "height": 442
    },
    "executionInfo": {
     "elapsed": 1193,
     "status": "error",
     "timestamp": 1697296196881,
     "user": {
      "displayName": "Jitlada YOTINTA",
      "userId": "05948340747487841983"
     },
     "user_tz": -420
    },
    "id": "e3dfefad-ec8f-43af-b8a1-bc15dd0783b3",
    "outputId": "76156d98-8b1d-4cd2-df08-58462b377e90",
    "tags": []
   },
   "outputs": [
    {
     "name": "stderr",
     "output_type": "stream",
     "text": [
      "WARNING:absl:At this time, the v2.11+ optimizer `tf.keras.optimizers.RestoredOptimizer` runs slowly on M1/M2 Macs, please use the legacy Keras optimizer instead, located at `tf.keras.optimizers.legacy.RestoredOptimizer`.\n",
      "WARNING:absl:At this time, the v2.11+ optimizer `tf.keras.optimizers.Adam` runs slowly on M1/M2 Macs, please use the legacy Keras optimizer instead, located at `tf.keras.optimizers.legacy.Adam`.\n",
      "WARNING:absl:There is a known slowdown when using v2.11+ Keras optimizers on M1/M2 Macs. Falling back to the legacy Keras optimizer, i.e., `tf.keras.optimizers.legacy.Adam`.\n"
     ]
    },
    {
     "name": "stdout",
     "output_type": "stream",
     "text": [
      "1/1 [==============================] - 0s 28ms/step\n"
     ]
    },
    {
     "name": "stderr",
     "output_type": "stream",
     "text": [
      "WARNING:absl:At this time, the v2.11+ optimizer `tf.keras.optimizers.RestoredOptimizer` runs slowly on M1/M2 Macs, please use the legacy Keras optimizer instead, located at `tf.keras.optimizers.legacy.RestoredOptimizer`.\n",
      "WARNING:absl:At this time, the v2.11+ optimizer `tf.keras.optimizers.Adam` runs slowly on M1/M2 Macs, please use the legacy Keras optimizer instead, located at `tf.keras.optimizers.legacy.Adam`.\n",
      "WARNING:absl:There is a known slowdown when using v2.11+ Keras optimizers on M1/M2 Macs. Falling back to the legacy Keras optimizer, i.e., `tf.keras.optimizers.legacy.Adam`.\n"
     ]
    },
    {
     "name": "stdout",
     "output_type": "stream",
     "text": [
      "1/1 [==============================] - 0s 78ms/step\n"
     ]
    },
    {
     "name": "stderr",
     "output_type": "stream",
     "text": [
      "WARNING:absl:At this time, the v2.11+ optimizer `tf.keras.optimizers.RestoredOptimizer` runs slowly on M1/M2 Macs, please use the legacy Keras optimizer instead, located at `tf.keras.optimizers.legacy.RestoredOptimizer`.\n",
      "WARNING:absl:At this time, the v2.11+ optimizer `tf.keras.optimizers.Adam` runs slowly on M1/M2 Macs, please use the legacy Keras optimizer instead, located at `tf.keras.optimizers.legacy.Adam`.\n",
      "WARNING:absl:There is a known slowdown when using v2.11+ Keras optimizers on M1/M2 Macs. Falling back to the legacy Keras optimizer, i.e., `tf.keras.optimizers.legacy.Adam`.\n"
     ]
    },
    {
     "name": "stdout",
     "output_type": "stream",
     "text": [
      "1/1 [==============================] - 0s 237ms/step\n"
     ]
    },
    {
     "name": "stderr",
     "output_type": "stream",
     "text": [
      "WARNING:absl:At this time, the v2.11+ optimizer `tf.keras.optimizers.RestoredOptimizer` runs slowly on M1/M2 Macs, please use the legacy Keras optimizer instead, located at `tf.keras.optimizers.legacy.RestoredOptimizer`.\n",
      "WARNING:absl:At this time, the v2.11+ optimizer `tf.keras.optimizers.Adam` runs slowly on M1/M2 Macs, please use the legacy Keras optimizer instead, located at `tf.keras.optimizers.legacy.Adam`.\n",
      "WARNING:absl:There is a known slowdown when using v2.11+ Keras optimizers on M1/M2 Macs. Falling back to the legacy Keras optimizer, i.e., `tf.keras.optimizers.legacy.Adam`.\n"
     ]
    },
    {
     "name": "stdout",
     "output_type": "stream",
     "text": [
      "1/1 [==============================] - 0s 377ms/step\n",
      "Final Answer : main_class : class2\n"
     ]
    }
   ],
   "source": [
    "# for input_text in input_text_list:\n",
    "#     print(\"Input Text:\", input_text)\n",
    "main_class = \"\"\n",
    "\n",
    "criteria_value = {}\n",
    "\n",
    "for each_model_name, accuracy in models_accuracy.items():\n",
    "    model = load_model(f'{test_class}/{test_class}-{each_model_name}')\n",
    "\n",
    "    tokens = word_tokenize(question, engine=engine, keep_whitespace=False, custom_dict=trie)  # Adjust the engine for Thai tokenization\n",
    "    unigram = create_ngrams(tokens, 1)\n",
    "\n",
    "    # Tokenize and pad\n",
    "    input_text_tokenized = tokenizer.texts_to_sequences([unigram])\n",
    "    input_text_padded = pad_sequences(input_text_tokenized, maxlen=maxlen, padding='post', truncating='pre', value=0)\n",
    "\n",
    "    predictions = model.predict(input_text_padded)\n",
    "\n",
    "    # Convert predictions to class labels\n",
    "    predicted_class_index = np.argmax(predictions, axis=1)\n",
    "    predicted_class_label = class_labels[predicted_class_index[0]]\n",
    "\n",
    "    # Print predictions\n",
    "    # print(f\"{each_model_name}: {max(predictions[0])}\")\n",
    "\n",
    "    if max(predictions[0]) >= 0.7:\n",
    "        # print(f\"Predicted Class: {predicted_class_label}\")\n",
    "        criteria_value[max(predictions[0]) * accuracy] = predicted_class_label\n",
    "#     else:\n",
    "#         print(\"Predicted Class: Can't answer\")\n",
    "\n",
    "#     print(\"------------------------------------------\")\n",
    "\n",
    "print(\"Final Answer : \", end=\"\")\n",
    "if (len(criteria_value) == 0):\n",
    "    print(\"Can't decide\")\n",
    "    main_class = \"NOT FOUND\"\n",
    "else:\n",
    "    # print(criteria_value[max(criteria_value.keys())])\n",
    "    main_class = \"class\"+criteria_value[max(criteria_value.keys())]\n",
    "print(\"main_class :\" , main_class)"
   ]
  },
  {
   "cell_type": "code",
   "execution_count": 11,
   "id": "2dc46065-8e1d-459d-abba-941fd76ddabe",
   "metadata": {},
   "outputs": [],
   "source": [
    "import csv\n",
    "\n",
    "models_accuracy = {}\n",
    "\n",
    "# Open the CSV file in read mode\n",
    "with open(f'{main_class}/{main_class}-model-accuracy.csv', mode='r') as file:\n",
    "    # Create a CSV reader object\n",
    "    reader = csv.reader(file)\n",
    "\n",
    "    next(reader)\n",
    "\n",
    "    # Iterate through the CSV rows and print them\n",
    "    for row in reader:\n",
    "        models_accuracy[row[0]] = float(row[1])\n",
    "\n",
    "class_labels = []\n",
    "\n",
    "# Open the CSV file in read mode\n",
    "with open(f'{main_class}/{main_class}-class-labels.csv', mode='r') as file:\n",
    "    # Create a CSV reader object\n",
    "    reader = csv.reader(file)\n",
    "\n",
    "    next(reader)\n",
    "\n",
    "    # Iterate through the CSV rows and print them\n",
    "    for row in reader:\n",
    "        class_labels.append(row[0])\n",
    "\n",
    "maxlen = 0\n",
    "\n",
    "# Open the CSV file in read mode\n",
    "with open(f'{main_class}/{main_class}-max-length.csv', mode='r') as file:\n",
    "    # Create a CSV reader object\n",
    "    reader = csv.reader(file)\n",
    "\n",
    "    next(reader)\n",
    "\n",
    "    # Iterate through the CSV rows and print them\n",
    "    for row in reader:\n",
    "        maxlen = int(row[0])\n",
    "\n",
    "tokenizer = joblib.load(f'{main_class}/{main_class}-tokenizer.joblib')"
   ]
  },
  {
   "cell_type": "code",
   "execution_count": 12,
   "id": "1ff3ad03-8bfb-4d00-9771-c5a457768d95",
   "metadata": {},
   "outputs": [
    {
     "name": "stderr",
     "output_type": "stream",
     "text": [
      "WARNING:absl:At this time, the v2.11+ optimizer `tf.keras.optimizers.RestoredOptimizer` runs slowly on M1/M2 Macs, please use the legacy Keras optimizer instead, located at `tf.keras.optimizers.legacy.RestoredOptimizer`.\n",
      "WARNING:absl:At this time, the v2.11+ optimizer `tf.keras.optimizers.Adam` runs slowly on M1/M2 Macs, please use the legacy Keras optimizer instead, located at `tf.keras.optimizers.legacy.Adam`.\n",
      "WARNING:absl:There is a known slowdown when using v2.11+ Keras optimizers on M1/M2 Macs. Falling back to the legacy Keras optimizer, i.e., `tf.keras.optimizers.legacy.Adam`.\n"
     ]
    },
    {
     "name": "stdout",
     "output_type": "stream",
     "text": [
      "WARNING:tensorflow:5 out of the last 5 calls to <function Model.make_predict_function.<locals>.predict_function at 0x29eb2f6a0> triggered tf.function retracing. Tracing is expensive and the excessive number of tracings could be due to (1) creating @tf.function repeatedly in a loop, (2) passing tensors with different shapes, (3) passing Python objects instead of tensors. For (1), please define your @tf.function outside of the loop. For (2), @tf.function has reduce_retracing=True option that can avoid unnecessary retracing. For (3), please refer to https://www.tensorflow.org/guide/function#controlling_retracing and https://www.tensorflow.org/api_docs/python/tf/function for  more details.\n"
     ]
    },
    {
     "name": "stderr",
     "output_type": "stream",
     "text": [
      "WARNING:tensorflow:5 out of the last 5 calls to <function Model.make_predict_function.<locals>.predict_function at 0x29eb2f6a0> triggered tf.function retracing. Tracing is expensive and the excessive number of tracings could be due to (1) creating @tf.function repeatedly in a loop, (2) passing tensors with different shapes, (3) passing Python objects instead of tensors. For (1), please define your @tf.function outside of the loop. For (2), @tf.function has reduce_retracing=True option that can avoid unnecessary retracing. For (3), please refer to https://www.tensorflow.org/guide/function#controlling_retracing and https://www.tensorflow.org/api_docs/python/tf/function for  more details.\n"
     ]
    },
    {
     "name": "stdout",
     "output_type": "stream",
     "text": [
      "1/1 [==============================] - 0s 17ms/step\n"
     ]
    },
    {
     "name": "stderr",
     "output_type": "stream",
     "text": [
      "WARNING:absl:At this time, the v2.11+ optimizer `tf.keras.optimizers.RestoredOptimizer` runs slowly on M1/M2 Macs, please use the legacy Keras optimizer instead, located at `tf.keras.optimizers.legacy.RestoredOptimizer`.\n",
      "WARNING:absl:At this time, the v2.11+ optimizer `tf.keras.optimizers.Adam` runs slowly on M1/M2 Macs, please use the legacy Keras optimizer instead, located at `tf.keras.optimizers.legacy.Adam`.\n",
      "WARNING:absl:There is a known slowdown when using v2.11+ Keras optimizers on M1/M2 Macs. Falling back to the legacy Keras optimizer, i.e., `tf.keras.optimizers.legacy.Adam`.\n"
     ]
    },
    {
     "name": "stdout",
     "output_type": "stream",
     "text": [
      "WARNING:tensorflow:6 out of the last 6 calls to <function Model.make_predict_function.<locals>.predict_function at 0x29eb59260> triggered tf.function retracing. Tracing is expensive and the excessive number of tracings could be due to (1) creating @tf.function repeatedly in a loop, (2) passing tensors with different shapes, (3) passing Python objects instead of tensors. For (1), please define your @tf.function outside of the loop. For (2), @tf.function has reduce_retracing=True option that can avoid unnecessary retracing. For (3), please refer to https://www.tensorflow.org/guide/function#controlling_retracing and https://www.tensorflow.org/api_docs/python/tf/function for  more details.\n"
     ]
    },
    {
     "name": "stderr",
     "output_type": "stream",
     "text": [
      "WARNING:tensorflow:6 out of the last 6 calls to <function Model.make_predict_function.<locals>.predict_function at 0x29eb59260> triggered tf.function retracing. Tracing is expensive and the excessive number of tracings could be due to (1) creating @tf.function repeatedly in a loop, (2) passing tensors with different shapes, (3) passing Python objects instead of tensors. For (1), please define your @tf.function outside of the loop. For (2), @tf.function has reduce_retracing=True option that can avoid unnecessary retracing. For (3), please refer to https://www.tensorflow.org/guide/function#controlling_retracing and https://www.tensorflow.org/api_docs/python/tf/function for  more details.\n"
     ]
    },
    {
     "name": "stdout",
     "output_type": "stream",
     "text": [
      "1/1 [==============================] - 0s 72ms/step\n"
     ]
    },
    {
     "name": "stderr",
     "output_type": "stream",
     "text": [
      "WARNING:absl:At this time, the v2.11+ optimizer `tf.keras.optimizers.RestoredOptimizer` runs slowly on M1/M2 Macs, please use the legacy Keras optimizer instead, located at `tf.keras.optimizers.legacy.RestoredOptimizer`.\n",
      "WARNING:absl:At this time, the v2.11+ optimizer `tf.keras.optimizers.Adam` runs slowly on M1/M2 Macs, please use the legacy Keras optimizer instead, located at `tf.keras.optimizers.legacy.Adam`.\n",
      "WARNING:absl:There is a known slowdown when using v2.11+ Keras optimizers on M1/M2 Macs. Falling back to the legacy Keras optimizer, i.e., `tf.keras.optimizers.legacy.Adam`.\n"
     ]
    },
    {
     "name": "stdout",
     "output_type": "stream",
     "text": [
      "1/1 [==============================] - 0s 243ms/step\n"
     ]
    },
    {
     "name": "stderr",
     "output_type": "stream",
     "text": [
      "WARNING:absl:At this time, the v2.11+ optimizer `tf.keras.optimizers.RestoredOptimizer` runs slowly on M1/M2 Macs, please use the legacy Keras optimizer instead, located at `tf.keras.optimizers.legacy.RestoredOptimizer`.\n",
      "WARNING:absl:At this time, the v2.11+ optimizer `tf.keras.optimizers.Adam` runs slowly on M1/M2 Macs, please use the legacy Keras optimizer instead, located at `tf.keras.optimizers.legacy.Adam`.\n",
      "WARNING:absl:There is a known slowdown when using v2.11+ Keras optimizers on M1/M2 Macs. Falling back to the legacy Keras optimizer, i.e., `tf.keras.optimizers.legacy.Adam`.\n"
     ]
    },
    {
     "name": "stdout",
     "output_type": "stream",
     "text": [
      "1/1 [==============================] - 0s 375ms/step\n",
      "Final Answer : subclass : class2005\n"
     ]
    }
   ],
   "source": [
    "# for input_text in input_text_list:\n",
    "#     print(\"Input Text:\", input_text)\n",
    "test_class = main_class\n",
    "\n",
    "if (main_class != \"NOT FOUND\"):\n",
    "    subclass = \"\"\n",
    "\n",
    "    criteria_value = {}\n",
    "\n",
    "    for each_model_name, accuracy in models_accuracy.items():\n",
    "        model = load_model(f'{test_class}/{test_class}-{each_model_name}')\n",
    "\n",
    "        tokens = word_tokenize(question, engine=engine, keep_whitespace=False, custom_dict=trie)  # Adjust the engine for Thai tokenization\n",
    "        unigram = create_ngrams(tokens, 1)\n",
    "\n",
    "        # Tokenize and pad\n",
    "        input_text_tokenized = tokenizer.texts_to_sequences([unigram])\n",
    "        input_text_padded = pad_sequences(input_text_tokenized, maxlen=maxlen, padding='post', truncating='pre', value=0)\n",
    "\n",
    "        predictions = model.predict(input_text_padded)\n",
    "\n",
    "        # Convert predictions to class labels\n",
    "        predicted_class_index = np.argmax(predictions, axis=1)\n",
    "        predicted_class_label = class_labels[predicted_class_index[0]]\n",
    "\n",
    "        # Print predictions\n",
    "        # print(f\"{each_model_name}: {max(predictions[0])}\")\n",
    "\n",
    "        if max(predictions[0]) >= 0.7:\n",
    "            # print(f\"Predicted Class: {predicted_class_label}\")\n",
    "            criteria_value[max(predictions[0]) * accuracy] = predicted_class_label\n",
    "    #     else:\n",
    "    #         print(\"Predicted Class: Can't answer\")\n",
    "\n",
    "    #     print(\"------------------------------------------\")\n",
    "\n",
    "    print(\"Final Answer : \", end=\"\")\n",
    "    if (len(criteria_value) == 0):\n",
    "        print(\"Can't decide\")\n",
    "        subclass = \"NOT FOUND\"\n",
    "    else:\n",
    "        # print(criteria_value[max(criteria_value.keys())])\n",
    "        subclass = \"class\"+criteria_value[max(criteria_value.keys())]\n",
    "    print(\"subclass :\", subclass)"
   ]
  },
  {
   "cell_type": "code",
   "execution_count": 13,
   "id": "893840e9-7962-4fe2-bd56-5e75e58452d6",
   "metadata": {
    "tags": []
   },
   "outputs": [],
   "source": [
    "dic_1001 = {\"1\": [\"โอเมก้า 3\" , \"โอเมก้าสาม\" , \"OMEGA 3\" , \"ดีเอสเอ\" , \"DSA\" , \"อีพีเอส\", \"EPS\" , \"กรดไขมันดีเอสเอ\" , \"กรดไขมันอีพีเอส\" , \"กรดไขมันแอลฟาไลโนเลนิก\" , \"แอลฟาไลโนเลนิก\" , \"กรดไขมัน\"],\n",
    "            \"2\": [\"โอเมก้า 6\" , \"โอเมก้าหก\" , \"OMEGA 6\" , \"กรดไขมัน\" , \"ไลโนอิกแอซิด\" , \"แกมมา ไลโนเลอิก แอซิด\" , \"LINOLEIC ACID\" , \"GAMMA LINOLEIC ACID\"],\n",
    "            \"3\": [\"ไนตริกออกไซด์\" , \"ไนตริกออกไซต์\" , \"NITRIC OXIDE\", \"ไนตริก\"],\n",
    "            \"4\": [\"วิตามิน\" , \"VITAMIN\", \"แร่ธาตุ\", \"MINERAL\", \"เกลือแร่\" , \"MINERAL SALT\"],\n",
    "            \"5\": [\"สารอาหาร\" , \"NUTRITION\"] ,\n",
    "            \"6\" : [\"ไขมันดี\" ,  \"HDL\" , \"คอเลสเตอรอลดี\" ,\"เฮชดีแอล\"] ,\n",
    "            \"7\" :[ \"คาร์โบไฮเดรต\" , \"CARBOHYDRATE\"] ,\n",
    "            \"8\" : [\"แคลเซียม\" , \"CALCIUM\"] ,\n",
    "            \"9\" : [\"โปรตีน\" , \"PROTIEN\"] ,\n",
    "            \"10\" : [\"โฟแลต\" , \"วิตามินบี 9\" , \"วิตามินB9\" , \"วิตามินบีเก้า\"] ,\n",
    "            \"11\" : [\"ใยอาหาร\", \"กากใย\"] ,\n",
    "            \"12\" : [\"ต้านอนุมูลอิสระ\", \"อนุมูลอิสระ\"] ,\n",
    "            \"13\" : [\"ธาตุเหล็ก\", \"เหล็ก\"]}\n",
    "\n",
    "dic_2003 = {\"1\" : [\"แขน\"] ,\n",
    "            \"2\" : [\"กล้ามอก\" , \"หน้าอก\" , \"เนื้ออก\" , \"กล้ามเนื้ออก\" , \"ส่วนบนลำตัว\" , \"ช่วงบนลำตัว\"] ,\n",
    "            \"3\" : [\"ขาใหญ่\" , \"ต้นขา\" , \"ขาเผละ\" , \"เชิงกราน\" , \"ขาเรียว\" , \"ขาเบียด\" , \"น่องขา\" , \"เนื้อขา\" , \"สะโพก\"] ,\n",
    "            \"4\" : [\"หลัง\" , \"ส่วนกลางลำตัว\" , \"ช่วงกลางลำตัว\"] ,\n",
    "            \"5\" : [\"ท้อง\"  , \"SIX PACK\" , \"พุง\" , \"ร่อง11\" ,\"เอว\" , \"ซิกแพค\", \"ส่วนล่างของลำตัว\"]}\n",
    "\n",
    "dic_2006 = {\"1\" : [\"เข่า\"] ,\n",
    "            \"2\" : [\"ไหล่\" , \"บ่า\" , \"คอ\" , \"ออฟฟิศซินโดรม\" , \"OFFICE SYNDROME\" , \"สะบัก\"] ,\n",
    "            \"3\" : [\"หลัง\"]}"
   ]
  },
  {
   "cell_type": "code",
   "execution_count": 14,
   "id": "f9b1674f-0208-47af-919d-0b0362c221b3",
   "metadata": {
    "tags": []
   },
   "outputs": [
    {
     "name": "stdout",
     "output_type": "stream",
     "text": [
      "ท่าบริหารร่างกายที่เหมาะกับผู้ป่วยเบาหวาน ได้แก่ \n",
      "- ท่ายืดกล้ามเนื้อ เช่น ท่ายืดหลัง ท่ายืดขา ท่ายืดไหล่ เพื่อเพิ่มการเคลื่อนไหวของร่างกายและลดความเสี่ยงในการบาดเจ็บ\n",
      "- ท่าบริหารกล้ามเนื้อแกนกลางลำตัว เช่น แพลงก์ สควอต ซิทอัพ เพื่อเสริมสร้างกล้ามเนื้อแกนกลางลำตัวและควบคุมการเคลื่อนไหวของร่างกาย\n",
      "- ท่าบริหารกล้ามเนื้อขา เช่น เดิน วิ่ง ปั่นจักรยาน เพื่อเสริมกล้ามเนื้อขาและควบคุมระดับน้ำตาลในเลือด.\n",
      "- ท่าบริหารกล้ามเนื้อแขน เช่น วิดพื้น ดึงข้อ โยคะ เพื่อเสริมกล้ามเนื้อแขนและควบคุมระดับน้ำตาลในเลือด.\n",
      "\n",
      "โดยการออกกำลังกายอย่างสม่ำเสมอเป็นสิ่งสำคัญสำหรับผู้ป่วยเบาหวาน เพื่อควบคุมระดับน้ำตาลในเลือด ลดน้ำหนัก และลดความเสี่ยงในการเกิดโรคแทรกซ้อนอื่น ๆ ของโรคเบาหวานได้อย่างดี\n"
     ]
    }
   ],
   "source": [
    "from answer_class_1001 import dic_class_1001\n",
    "from answer_class_2003 import dic_class_2003\n",
    "from answer_class_2006 import dic_class_2006\n",
    "from answer_class_1 import dic_class_1\n",
    "from answer_class_2 import dic_class_2\n",
    "from answer_class_0 import dic_class_0\n",
    "\n",
    "result = \"\"\n",
    "if question.startswith(\"!@#$%\"):\n",
    "    userId = question[5:38] # there are 32 character for each user id\n",
    "    question = question[38:]\n",
    "    weight , height = question.split()\n",
    "    bmi = weight/((height/100)**2)\n",
    "    check_bmi(bmi)\n",
    "# check subclass before\n",
    "else:\n",
    "    if subclass.startswith(main_class) and subclass != \"NOT FOUND\" and main_class != \"NOT FOUND\" and main_class != \"\" and subclass != \"\":\n",
    "        if subclass == \"class1001\":\n",
    "            result = process_text_v2(question , dic_1001)\n",
    "            for final_class in result:\n",
    "              print(dic_class_1001[final_class])\n",
    "\n",
    "        elif subclass == \"class2003\":\n",
    "            result = process_text_v2(question , dic_2003)\n",
    "            for final_class in result:\n",
    "              print(dic_class_2003[final_class])\n",
    "        elif subclass == \"class2006\":\n",
    "            result = process_text_v2(question , dic_2006)\n",
    "            \n",
    "            for final_class in result:\n",
    "              print(dic_class_2006[final_class])\n",
    "        elif subclass.startswith(\"class0\"): #001 , 002 check ด้วยว่า subclass มันตรงกับ main_class มั้ย\n",
    "            # check final and main class\n",
    "            if (subclass == \"class002\"):\n",
    "              print(\"!@#$%โปรดระบุน้ำหนัก ส่วนสูง ของคุณตามในหน่วยกิโลกรัมและเซนติเมตรลำดับ เช่น 56 175\")\n",
    "            # print(\"read file in class 0\")\n",
    "            else:\n",
    "                subclass = subclass[5:]\n",
    "                print(dic_class_0[subclass])\n",
    "        elif subclass.startswith(\"class1\"):\n",
    "            subclass = subclass[5:]\n",
    "            # print(\"read file in class 1\")\n",
    "            print(dic_class_1[subclass])\n",
    "        elif subclass.startswith(\"class2\"):\n",
    "            subclass = subclass[5:]\n",
    "            # print(\"read file in class 2\")\n",
    "            print(dic_class_2[subclass])\n",
    "        else:\n",
    "            result = \"NOT FOUND\"\n",
    "        # print(result)\n",
    "    else:\n",
    "        print(\"FINAL ANSWER : NOT FOUND\")"
   ]
  }
 ],
 "metadata": {
  "colab": {
   "provenance": []
  },
  "kernelspec": {
   "display_name": "Python 3 (ipykernel)",
   "language": "python",
   "name": "python3"
  },
  "language_info": {
   "codemirror_mode": {
    "name": "ipython",
    "version": 3
   },
   "file_extension": ".py",
   "mimetype": "text/x-python",
   "name": "python",
   "nbconvert_exporter": "python",
   "pygments_lexer": "ipython3",
   "version": "3.11.5"
  }
 },
 "nbformat": 4,
 "nbformat_minor": 5
}
